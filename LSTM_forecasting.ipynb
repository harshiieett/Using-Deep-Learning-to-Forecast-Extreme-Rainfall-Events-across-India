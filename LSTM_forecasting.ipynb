{
  "nbformat": 4,
  "nbformat_minor": 0,
  "metadata": {
    "colab": {
      "provenance": []
    },
    "kernelspec": {
      "name": "python3",
      "display_name": "Python 3"
    },
    "language_info": {
      "name": "python"
    }
  },
  "cells": [
    {
      "cell_type": "code",
      "source": [
        "import pandas as pd\n",
        "import numpy as np\n",
        "from sklearn.preprocessing import MinMaxScaler\n",
        "from tensorflow.keras.models import Sequential\n",
        "from tensorflow.keras.layers import LSTM, Dense\n",
        "from tensorflow.keras.optimizers import Adam\n",
        "import matplotlib.pyplot as plt"
      ],
      "metadata": {
        "id": "f1ECg5jUr0on"
      },
      "execution_count": 1,
      "outputs": []
    },
    {
      "cell_type": "code",
      "source": [
        "# Load the dataset\n",
        "data_path = 'ind1901_2015.csv'\n",
        "precip_data = pd.read_csv(data_path)"
      ],
      "metadata": {
        "id": "cdpgnITgfiVk"
      },
      "execution_count": 2,
      "outputs": []
    },
    {
      "cell_type": "code",
      "source": [
        "# Prepare data without summing\n",
        "# Dropping the first column (since it's not numeric data), and handle precipitation values as individual features\n",
        "precip_data_cleaned = precip_data.drop(columns=['Unnamed: 0']).iloc[2:].reset_index(drop=True)\n",
        "precip_data_cleaned.index = pd.to_datetime(precip_data.iloc[2:, 0].str[1:], errors='coerce', format='%Y.%m.%d.%H.%M.%S')\n",
        "precip_data_cleaned = precip_data_cleaned.apply(pd.to_numeric, errors='coerce')  # Ensure all values are numeric\n"
      ],
      "metadata": {
        "id": "Bd1JCC4Ft4r1"
      },
      "execution_count": 3,
      "outputs": []
    },
    {
      "cell_type": "code",
      "source": [
        "# Scale the data (min-max scaling for all grid points)\n",
        "scaler = MinMaxScaler(feature_range=(0, 1))\n",
        "precip_scaled = scaler.fit_transform(precip_data_cleaned)\n"
      ],
      "metadata": {
        "id": "GkRXp58juDEP"
      },
      "execution_count": 4,
      "outputs": []
    },
    {
      "cell_type": "code",
      "source": [
        "# Create sequences for LSTM\n",
        "sequence_length = 30  # Use 30 days to predict the next day\n",
        "X, y = [], []\n",
        "for i in range(len(precip_scaled) - sequence_length):\n",
        "    X.append(precip_scaled[i:i + sequence_length])  # Last 30 days of all grid points\n",
        "    y.append(precip_scaled[i + sequence_length])    # Next day's values for all grid points\n",
        "# X: A 3D array of shape (num_samples, sequence_length, num_features)\n",
        "# y: A 2D array of shape (num_samples, num_features) containing the target values\n",
        "# and finally converting them to numpy arrays for input to lstm model\n",
        "X, y = np.array(X), np.array(y)"
      ],
      "metadata": {
        "id": "7pAF1LTEuIP7"
      },
      "execution_count": 5,
      "outputs": []
    },
    {
      "cell_type": "code",
      "source": [
        "# Train-test split\n",
        "train_size = int(0.8 * len(X))\n",
        "X_train, X_test = X[:train_size], X[train_size:]\n",
        "y_train, y_test = y[:train_size], y[train_size:]"
      ],
      "metadata": {
        "id": "X0PDckj82i-B"
      },
      "execution_count": 6,
      "outputs": []
    },
    {
      "cell_type": "code",
      "source": [
        "X.shape"
      ],
      "metadata": {
        "colab": {
          "base_uri": "https://localhost:8080/"
        },
        "id": "uknY6sapsBba",
        "outputId": "5f6ef608-8744-47f5-9d63-bf643d26fa8e"
      },
      "execution_count": 7,
      "outputs": [
        {
          "output_type": "execute_result",
          "data": {
            "text/plain": [
              "(334, 30, 639)"
            ]
          },
          "metadata": {},
          "execution_count": 7
        }
      ]
    },
    {
      "cell_type": "code",
      "source": [
        "# Update model for multi-output regression\n",
        "model = Sequential([\n",
        "    LSTM(50, activation='relu', input_shape=(sequence_length, X.shape[2]), return_sequences=True),\n",
        "    LSTM(50, activation='relu'),\n",
        "    Dense(X.shape[2])  # One output for each grid point\n",
        "])"
      ],
      "metadata": {
        "id": "H3-kOSQ6vxZ2",
        "colab": {
          "base_uri": "https://localhost:8080/"
        },
        "outputId": "8292b0dc-f9ad-437a-82dc-f5108706177c"
      },
      "execution_count": 8,
      "outputs": [
        {
          "output_type": "stream",
          "name": "stderr",
          "text": [
            "/usr/local/lib/python3.10/dist-packages/keras/src/layers/rnn/rnn.py:204: UserWarning: Do not pass an `input_shape`/`input_dim` argument to a layer. When using Sequential models, prefer using an `Input(shape)` object as the first layer in the model instead.\n",
            "  super().__init__(**kwargs)\n"
          ]
        }
      ]
    },
    {
      "cell_type": "code",
      "source": [
        "# Compile and train the model\n",
        "from sklearn.metrics import mean_absolute_error, mean_squared_error\n",
        "\n",
        "model.compile(optimizer=Adam(learning_rate=0.001), loss='mean_squared_error',metrics=['accuracy'])\n",
        "# history = model.fit(X, y, epochs=50, batch_size=32, validation_split=0.2, verbose=1\n",
        "history = model.fit(X_train, y_train, epochs=50, batch_size=32, validation_split=0.2, verbose=1)"
      ],
      "metadata": {
        "colab": {
          "base_uri": "https://localhost:8080/"
        },
        "id": "MO8HRajduZF0",
        "outputId": "d1fb9819-1a21-4c96-ce86-bf7267679729"
      },
      "execution_count": 9,
      "outputs": [
        {
          "output_type": "stream",
          "name": "stdout",
          "text": [
            "Epoch 1/50\n",
            "\u001b[1m7/7\u001b[0m \u001b[32m━━━━━━━━━━━━━━━━━━━━\u001b[0m\u001b[37m\u001b[0m \u001b[1m6s\u001b[0m 120ms/step - accuracy: 0.0000e+00 - loss: 0.0160 - val_accuracy: 0.0185 - val_loss: 0.0190\n",
            "Epoch 2/50\n",
            "\u001b[1m7/7\u001b[0m \u001b[32m━━━━━━━━━━━━━━━━━━━━\u001b[0m\u001b[37m\u001b[0m \u001b[1m1s\u001b[0m 52ms/step - accuracy: 0.0068 - loss: 0.0145 - val_accuracy: 0.0185 - val_loss: 0.0178\n",
            "Epoch 3/50\n",
            "\u001b[1m7/7\u001b[0m \u001b[32m━━━━━━━━━━━━━━━━━━━━\u001b[0m\u001b[37m\u001b[0m \u001b[1m0s\u001b[0m 57ms/step - accuracy: 0.0036 - loss: 0.0128 - val_accuracy: 0.0185 - val_loss: 0.0162\n",
            "Epoch 4/50\n",
            "\u001b[1m7/7\u001b[0m \u001b[32m━━━━━━━━━━━━━━━━━━━━\u001b[0m\u001b[37m\u001b[0m \u001b[1m1s\u001b[0m 53ms/step - accuracy: 0.0036 - loss: 0.0131 - val_accuracy: 0.0185 - val_loss: 0.0155\n",
            "Epoch 5/50\n",
            "\u001b[1m7/7\u001b[0m \u001b[32m━━━━━━━━━━━━━━━━━━━━\u001b[0m\u001b[37m\u001b[0m \u001b[1m0s\u001b[0m 60ms/step - accuracy: 0.0080 - loss: 0.0125 - val_accuracy: 0.0926 - val_loss: 0.0152\n",
            "Epoch 6/50\n",
            "\u001b[1m7/7\u001b[0m \u001b[32m━━━━━━━━━━━━━━━━━━━━\u001b[0m\u001b[37m\u001b[0m \u001b[1m1s\u001b[0m 52ms/step - accuracy: 0.0370 - loss: 0.0108 - val_accuracy: 0.0926 - val_loss: 0.0149\n",
            "Epoch 7/50\n",
            "\u001b[1m7/7\u001b[0m \u001b[32m━━━━━━━━━━━━━━━━━━━━\u001b[0m\u001b[37m\u001b[0m \u001b[1m1s\u001b[0m 55ms/step - accuracy: 0.0385 - loss: 0.0120 - val_accuracy: 0.0926 - val_loss: 0.0148\n",
            "Epoch 8/50\n",
            "\u001b[1m7/7\u001b[0m \u001b[32m━━━━━━━━━━━━━━━━━━━━\u001b[0m\u001b[37m\u001b[0m \u001b[1m1s\u001b[0m 55ms/step - accuracy: 0.0600 - loss: 0.0121 - val_accuracy: 0.0926 - val_loss: 0.0149\n",
            "Epoch 9/50\n",
            "\u001b[1m7/7\u001b[0m \u001b[32m━━━━━━━━━━━━━━━━━━━━\u001b[0m\u001b[37m\u001b[0m \u001b[1m1s\u001b[0m 52ms/step - accuracy: 0.1187 - loss: 0.0121 - val_accuracy: 0.0926 - val_loss: 0.0147\n",
            "Epoch 10/50\n",
            "\u001b[1m7/7\u001b[0m \u001b[32m━━━━━━━━━━━━━━━━━━━━\u001b[0m\u001b[37m\u001b[0m \u001b[1m1s\u001b[0m 58ms/step - accuracy: 0.1144 - loss: 0.0109 - val_accuracy: 0.0926 - val_loss: 0.0148\n",
            "Epoch 11/50\n",
            "\u001b[1m7/7\u001b[0m \u001b[32m━━━━━━━━━━━━━━━━━━━━\u001b[0m\u001b[37m\u001b[0m \u001b[1m1s\u001b[0m 55ms/step - accuracy: 0.1226 - loss: 0.0106 - val_accuracy: 0.0926 - val_loss: 0.0148\n",
            "Epoch 12/50\n",
            "\u001b[1m7/7\u001b[0m \u001b[32m━━━━━━━━━━━━━━━━━━━━\u001b[0m\u001b[37m\u001b[0m \u001b[1m0s\u001b[0m 54ms/step - accuracy: 0.1243 - loss: 0.0121 - val_accuracy: 0.0926 - val_loss: 0.0149\n",
            "Epoch 13/50\n",
            "\u001b[1m7/7\u001b[0m \u001b[32m━━━━━━━━━━━━━━━━━━━━\u001b[0m\u001b[37m\u001b[0m \u001b[1m1s\u001b[0m 79ms/step - accuracy: 0.0971 - loss: 0.0114 - val_accuracy: 0.0926 - val_loss: 0.0150\n",
            "Epoch 14/50\n",
            "\u001b[1m7/7\u001b[0m \u001b[32m━━━━━━━━━━━━━━━━━━━━\u001b[0m\u001b[37m\u001b[0m \u001b[1m1s\u001b[0m 98ms/step - accuracy: 0.0929 - loss: 0.0099 - val_accuracy: 0.0926 - val_loss: 0.0151\n",
            "Epoch 15/50\n",
            "\u001b[1m7/7\u001b[0m \u001b[32m━━━━━━━━━━━━━━━━━━━━\u001b[0m\u001b[37m\u001b[0m \u001b[1m1s\u001b[0m 94ms/step - accuracy: 0.1123 - loss: 0.0097 - val_accuracy: 0.0926 - val_loss: 0.0152\n",
            "Epoch 16/50\n",
            "\u001b[1m7/7\u001b[0m \u001b[32m━━━━━━━━━━━━━━━━━━━━\u001b[0m\u001b[37m\u001b[0m \u001b[1m1s\u001b[0m 56ms/step - accuracy: 0.1038 - loss: 0.0099 - val_accuracy: 0.0926 - val_loss: 0.0154\n",
            "Epoch 17/50\n",
            "\u001b[1m7/7\u001b[0m \u001b[32m━━━━━━━━━━━━━━━━━━━━\u001b[0m\u001b[37m\u001b[0m \u001b[1m0s\u001b[0m 60ms/step - accuracy: 0.1243 - loss: 0.0092 - val_accuracy: 0.0926 - val_loss: 0.0154\n",
            "Epoch 18/50\n",
            "\u001b[1m7/7\u001b[0m \u001b[32m━━━━━━━━━━━━━━━━━━━━\u001b[0m\u001b[37m\u001b[0m \u001b[1m0s\u001b[0m 57ms/step - accuracy: 0.1073 - loss: 0.0096 - val_accuracy: 0.0926 - val_loss: 0.0155\n",
            "Epoch 19/50\n",
            "\u001b[1m7/7\u001b[0m \u001b[32m━━━━━━━━━━━━━━━━━━━━\u001b[0m\u001b[37m\u001b[0m \u001b[1m1s\u001b[0m 58ms/step - accuracy: 0.0913 - loss: 0.0101 - val_accuracy: 0.0926 - val_loss: 0.0152\n",
            "Epoch 20/50\n",
            "\u001b[1m7/7\u001b[0m \u001b[32m━━━━━━━━━━━━━━━━━━━━\u001b[0m\u001b[37m\u001b[0m \u001b[1m0s\u001b[0m 62ms/step - accuracy: 0.1016 - loss: 0.0108 - val_accuracy: 0.0926 - val_loss: 0.0157\n",
            "Epoch 21/50\n",
            "\u001b[1m7/7\u001b[0m \u001b[32m━━━━━━━━━━━━━━━━━━━━\u001b[0m\u001b[37m\u001b[0m \u001b[1m0s\u001b[0m 62ms/step - accuracy: 0.1062 - loss: 0.0099 - val_accuracy: 0.0926 - val_loss: 0.0158\n",
            "Epoch 22/50\n",
            "\u001b[1m7/7\u001b[0m \u001b[32m━━━━━━━━━━━━━━━━━━━━\u001b[0m\u001b[37m\u001b[0m \u001b[1m0s\u001b[0m 63ms/step - accuracy: 0.1208 - loss: 0.0100 - val_accuracy: 0.0926 - val_loss: 0.0155\n",
            "Epoch 23/50\n",
            "\u001b[1m7/7\u001b[0m \u001b[32m━━━━━━━━━━━━━━━━━━━━\u001b[0m\u001b[37m\u001b[0m \u001b[1m1s\u001b[0m 65ms/step - accuracy: 0.1327 - loss: 0.0085 - val_accuracy: 0.0926 - val_loss: 0.0160\n",
            "Epoch 24/50\n",
            "\u001b[1m7/7\u001b[0m \u001b[32m━━━━━━━━━━━━━━━━━━━━\u001b[0m\u001b[37m\u001b[0m \u001b[1m0s\u001b[0m 68ms/step - accuracy: 0.1208 - loss: 0.0094 - val_accuracy: 0.0926 - val_loss: 0.0159\n",
            "Epoch 25/50\n",
            "\u001b[1m7/7\u001b[0m \u001b[32m━━━━━━━━━━━━━━━━━━━━\u001b[0m\u001b[37m\u001b[0m \u001b[1m1s\u001b[0m 75ms/step - accuracy: 0.1353 - loss: 0.0091 - val_accuracy: 0.0926 - val_loss: 0.0160\n",
            "Epoch 26/50\n",
            "\u001b[1m7/7\u001b[0m \u001b[32m━━━━━━━━━━━━━━━━━━━━\u001b[0m\u001b[37m\u001b[0m \u001b[1m0s\u001b[0m 59ms/step - accuracy: 0.1525 - loss: 0.0079 - val_accuracy: 0.0926 - val_loss: 0.0160\n",
            "Epoch 27/50\n",
            "\u001b[1m7/7\u001b[0m \u001b[32m━━━━━━━━━━━━━━━━━━━━\u001b[0m\u001b[37m\u001b[0m \u001b[1m1s\u001b[0m 63ms/step - accuracy: 0.1260 - loss: 0.0097 - val_accuracy: 0.0926 - val_loss: 0.0165\n",
            "Epoch 28/50\n",
            "\u001b[1m7/7\u001b[0m \u001b[32m━━━━━━━━━━━━━━━━━━━━\u001b[0m\u001b[37m\u001b[0m \u001b[1m1s\u001b[0m 70ms/step - accuracy: 0.0975 - loss: 0.0088 - val_accuracy: 0.0926 - val_loss: 0.0160\n",
            "Epoch 29/50\n",
            "\u001b[1m7/7\u001b[0m \u001b[32m━━━━━━━━━━━━━━━━━━━━\u001b[0m\u001b[37m\u001b[0m \u001b[1m0s\u001b[0m 70ms/step - accuracy: 0.1288 - loss: 0.0081 - val_accuracy: 0.0926 - val_loss: 0.0168\n",
            "Epoch 30/50\n",
            "\u001b[1m7/7\u001b[0m \u001b[32m━━━━━━━━━━━━━━━━━━━━\u001b[0m\u001b[37m\u001b[0m \u001b[1m0s\u001b[0m 59ms/step - accuracy: 0.1012 - loss: 0.0087 - val_accuracy: 0.0926 - val_loss: 0.0166\n",
            "Epoch 31/50\n",
            "\u001b[1m7/7\u001b[0m \u001b[32m━━━━━━━━━━━━━━━━━━━━\u001b[0m\u001b[37m\u001b[0m \u001b[1m1s\u001b[0m 58ms/step - accuracy: 0.1181 - loss: 0.0086 - val_accuracy: 0.0926 - val_loss: 0.0164\n",
            "Epoch 32/50\n",
            "\u001b[1m7/7\u001b[0m \u001b[32m━━━━━━━━━━━━━━━━━━━━\u001b[0m\u001b[37m\u001b[0m \u001b[1m1s\u001b[0m 64ms/step - accuracy: 0.1378 - loss: 0.0084 - val_accuracy: 0.0926 - val_loss: 0.0166\n",
            "Epoch 33/50\n",
            "\u001b[1m7/7\u001b[0m \u001b[32m━━━━━━━━━━━━━━━━━━━━\u001b[0m\u001b[37m\u001b[0m \u001b[1m1s\u001b[0m 78ms/step - accuracy: 0.1209 - loss: 0.0080 - val_accuracy: 0.0926 - val_loss: 0.0181\n",
            "Epoch 34/50\n",
            "\u001b[1m7/7\u001b[0m \u001b[32m━━━━━━━━━━━━━━━━━━━━\u001b[0m\u001b[37m\u001b[0m \u001b[1m1s\u001b[0m 94ms/step - accuracy: 0.1245 - loss: 0.0074 - val_accuracy: 0.0926 - val_loss: 0.0178\n",
            "Epoch 35/50\n",
            "\u001b[1m7/7\u001b[0m \u001b[32m━━━━━━━━━━━━━━━━━━━━\u001b[0m\u001b[37m\u001b[0m \u001b[1m1s\u001b[0m 128ms/step - accuracy: 0.1221 - loss: 0.0075 - val_accuracy: 0.0926 - val_loss: 0.0190\n",
            "Epoch 36/50\n",
            "\u001b[1m7/7\u001b[0m \u001b[32m━━━━━━━━━━━━━━━━━━━━\u001b[0m\u001b[37m\u001b[0m \u001b[1m1s\u001b[0m 104ms/step - accuracy: 0.1166 - loss: 0.0078 - val_accuracy: 0.0926 - val_loss: 0.0183\n",
            "Epoch 37/50\n",
            "\u001b[1m7/7\u001b[0m \u001b[32m━━━━━━━━━━━━━━━━━━━━\u001b[0m\u001b[37m\u001b[0m \u001b[1m1s\u001b[0m 86ms/step - accuracy: 0.1333 - loss: 0.0073 - val_accuracy: 0.0926 - val_loss: 0.0186\n",
            "Epoch 38/50\n",
            "\u001b[1m7/7\u001b[0m \u001b[32m━━━━━━━━━━━━━━━━━━━━\u001b[0m\u001b[37m\u001b[0m \u001b[1m1s\u001b[0m 71ms/step - accuracy: 0.1211 - loss: 0.0072 - val_accuracy: 0.0926 - val_loss: 0.0192\n",
            "Epoch 39/50\n",
            "\u001b[1m7/7\u001b[0m \u001b[32m━━━━━━━━━━━━━━━━━━━━\u001b[0m\u001b[37m\u001b[0m \u001b[1m0s\u001b[0m 63ms/step - accuracy: 0.1040 - loss: 0.0070 - val_accuracy: 0.0926 - val_loss: 0.0196\n",
            "Epoch 40/50\n",
            "\u001b[1m7/7\u001b[0m \u001b[32m━━━━━━━━━━━━━━━━━━━━\u001b[0m\u001b[37m\u001b[0m \u001b[1m1s\u001b[0m 62ms/step - accuracy: 0.1396 - loss: 0.0071 - val_accuracy: 0.0926 - val_loss: 0.0194\n",
            "Epoch 41/50\n",
            "\u001b[1m7/7\u001b[0m \u001b[32m━━━━━━━━━━━━━━━━━━━━\u001b[0m\u001b[37m\u001b[0m \u001b[1m1s\u001b[0m 59ms/step - accuracy: 0.1494 - loss: 0.0068 - val_accuracy: 0.0926 - val_loss: 0.0216\n",
            "Epoch 42/50\n",
            "\u001b[1m7/7\u001b[0m \u001b[32m━━━━━━━━━━━━━━━━━━━━\u001b[0m\u001b[37m\u001b[0m \u001b[1m1s\u001b[0m 51ms/step - accuracy: 0.1260 - loss: 0.0063 - val_accuracy: 0.0926 - val_loss: 0.0199\n",
            "Epoch 43/50\n",
            "\u001b[1m7/7\u001b[0m \u001b[32m━━━━━━━━━━━━━━━━━━━━\u001b[0m\u001b[37m\u001b[0m \u001b[1m1s\u001b[0m 54ms/step - accuracy: 0.1346 - loss: 0.0062 - val_accuracy: 0.0926 - val_loss: 0.0220\n",
            "Epoch 44/50\n",
            "\u001b[1m7/7\u001b[0m \u001b[32m━━━━━━━━━━━━━━━━━━━━\u001b[0m\u001b[37m\u001b[0m \u001b[1m0s\u001b[0m 53ms/step - accuracy: 0.1118 - loss: 0.0063 - val_accuracy: 0.0926 - val_loss: 0.0193\n",
            "Epoch 45/50\n",
            "\u001b[1m7/7\u001b[0m \u001b[32m━━━━━━━━━━━━━━━━━━━━\u001b[0m\u001b[37m\u001b[0m \u001b[1m0s\u001b[0m 60ms/step - accuracy: 0.1446 - loss: 0.0060 - val_accuracy: 0.0926 - val_loss: 0.0217\n",
            "Epoch 46/50\n",
            "\u001b[1m7/7\u001b[0m \u001b[32m━━━━━━━━━━━━━━━━━━━━\u001b[0m\u001b[37m\u001b[0m \u001b[1m1s\u001b[0m 53ms/step - accuracy: 0.1147 - loss: 0.0068 - val_accuracy: 0.0926 - val_loss: 0.0203\n",
            "Epoch 47/50\n",
            "\u001b[1m7/7\u001b[0m \u001b[32m━━━━━━━━━━━━━━━━━━━━\u001b[0m\u001b[37m\u001b[0m \u001b[1m0s\u001b[0m 60ms/step - accuracy: 0.1160 - loss: 0.0066 - val_accuracy: 0.0926 - val_loss: 0.0213\n",
            "Epoch 48/50\n",
            "\u001b[1m7/7\u001b[0m \u001b[32m━━━━━━━━━━━━━━━━━━━━\u001b[0m\u001b[37m\u001b[0m \u001b[1m1s\u001b[0m 53ms/step - accuracy: 0.1209 - loss: 0.0063 - val_accuracy: 0.0926 - val_loss: 0.0286\n",
            "Epoch 49/50\n",
            "\u001b[1m7/7\u001b[0m \u001b[32m━━━━━━━━━━━━━━━━━━━━\u001b[0m\u001b[37m\u001b[0m \u001b[1m0s\u001b[0m 58ms/step - accuracy: 0.1286 - loss: 0.0057 - val_accuracy: 0.0926 - val_loss: 0.0202\n",
            "Epoch 50/50\n",
            "\u001b[1m7/7\u001b[0m \u001b[32m━━━━━━━━━━━━━━━━━━━━\u001b[0m\u001b[37m\u001b[0m \u001b[1m0s\u001b[0m 55ms/step - accuracy: 0.1294 - loss: 0.0061 - val_accuracy: 0.0926 - val_loss: 0.0214\n"
          ]
        }
      ]
    },
    {
      "cell_type": "code",
      "source": [
        "# Plot training history\n",
        "plt.plot(history.history['loss'], label='Training Loss',color='red')\n",
        "plt.plot(history.history['val_loss'], label='Validation Loss',color='orange')\n",
        "plt.title('Training and Validation Loss')\n",
        "plt.xlabel('Epochs')\n",
        "plt.ylabel('Loss')\n",
        "plt.legend()\n",
        "plt.show()"
      ],
      "metadata": {
        "colab": {
          "base_uri": "https://localhost:8080/",
          "height": 472
        },
        "id": "v6YSDtYBfiqK",
        "outputId": "09179454-0cc9-41fe-badc-f492490eb6a9"
      },
      "execution_count": 10,
      "outputs": [
        {
          "output_type": "display_data",
          "data": {
            "text/plain": [
              "<Figure size 640x480 with 1 Axes>"
            ],
            "image/png": "[encoded data removed]"
          },
          "metadata": {}
        }
      ]
    },
    {
      "cell_type": "code",
      "source": [
        "# Predict on the last sequence\n",
        "last_sequence = X[-1].reshape(1, sequence_length, X.shape[2])\n",
        "predicted_precip = model.predict(last_sequence)\n",
        "predicted_precip = scaler.inverse_transform(predicted_precip)  # Rescale to original values\n",
        "print(\"Predicted precipitation for next day (per grid point):\", predicted_precip)"
      ],
      "metadata": {
        "colab": {
          "base_uri": "https://localhost:8080/"
        },
        "id": "l-PbAAsLuf8M",
        "outputId": "15bf218c-05b3-4a94-a7fc-553d48c9780c",
        "collapsed": true
      },
      "execution_count": 11,
      "outputs": [
        {
          "output_type": "stream",
          "name": "stdout",
          "text": [
            "\u001b[1m1/1\u001b[0m \u001b[32m━━━━━━━━━━━━━━━━━━━━\u001b[0m\u001b[37m\u001b[0m \u001b[1m0s\u001b[0m 259ms/step\n",
            "Predicted precipitation for next day (per grid point): [[ 4.40028477e+00  6.51376009e+00  6.70221376e+00  3.60637379e+00\n",
            "   3.37690663e+00  3.23968267e+00  7.78935528e+00  4.52489853e+00\n",
            "   3.09446955e+00  3.20273376e+00  3.74273467e+00  2.22016501e+00\n",
            "   1.44565642e+00  3.02391171e+00  3.70753241e+00  1.88593233e+00\n",
            "   1.44726980e+00  1.09534156e+00  2.98263144e+00  3.68706155e+00\n",
            "   4.32752180e+00  2.79196739e+00  1.83717215e+00  3.39083147e+00\n",
            "   2.44022059e+00  3.44937372e+00  3.15592933e+00  2.58808613e+00\n",
            "   6.42443323e+00  5.73180485e+00  1.74381185e+00  8.27527165e-01\n",
            "   1.66612470e+00  1.88376677e+00  1.80815780e+00  1.90799391e+00\n",
            "   2.87159967e+00  2.05329442e+00  5.40967703e+00  9.20976460e-01\n",
            "   9.48638618e-01  1.17179656e+00 -3.43165755e-01  6.30470335e-01\n",
            "   1.66397929e+00  1.93106437e+00  2.83105946e+00  7.78483748e-01\n",
            "   3.48595715e+00  4.40910482e+00  8.70350063e-01  1.33328223e+00\n",
            "   1.16065276e+00  1.12795126e+00  7.43345559e-01  5.69706202e-01\n",
            "  -4.74252515e-02  1.02382743e+00  2.71420064e-03  2.19196033e+00\n",
            "   3.23555899e+00  3.65957594e+00  5.19074726e+00  7.74670720e-01\n",
            "   1.63947117e+00  4.22580153e-01  1.53761387e+00  3.30782008e+00\n",
            "  -1.70668568e-02 -6.26378477e-01  6.17557943e-01  1.68328178e+00\n",
            "   2.72223759e+00  2.03215313e+00  4.31681252e+00  5.48837852e+00\n",
            "   7.40698767e+00  5.35668898e+00  1.15504229e+00  8.03009152e-01\n",
            "  -1.16504848e-01  1.09778833e+00 -8.02431107e-01 -1.95335880e-01\n",
            "   2.70179696e-02 -3.00122619e-01  5.37754118e-01  4.59031534e+00\n",
            "  -1.95137548e+00  5.87281895e+00  8.89006424e+00  5.78099918e+00\n",
            "   5.09937572e+00  3.22169709e+00  1.50461149e+00  4.93948609e-01\n",
            "  -4.96819735e-01  1.05111673e-02  4.24559802e-01  3.28088135e-01\n",
            "   2.18086791e+00  2.60813141e+00  3.82780480e+00  4.11375999e+00\n",
            "   3.70365572e+00  8.55195618e+00  3.54932094e+00  5.77697134e+00\n",
            "   4.95793915e+00  3.27461886e+00  3.93645191e+00  9.24409676e+00\n",
            "   1.89883590e+00  5.70596635e-01 -6.71916306e-01  8.71884286e-01\n",
            "   9.85774696e-01  2.67638373e+00  2.43388224e+00  1.56165361e+00\n",
            "   1.32464290e+00  8.00117874e+00  5.28111362e+00  2.59465742e+00\n",
            "   4.41606426e+00 -1.93411636e+00  1.90094888e+00  1.18642306e+00\n",
            "   2.95303631e+00  6.48630667e+00  6.91815281e+00  2.64837956e+00\n",
            "   1.84687996e+00 -1.67665273e-01  1.35745728e+00  1.47210550e+00\n",
            "   1.93442607e+00  1.59646368e+00  3.56222486e+00  6.65075541e-01\n",
            "   6.73140097e+00  4.96040821e+00  6.75578928e+00  3.86913562e+00\n",
            "   2.85017014e+00  2.51882315e+00  3.71166229e+00  3.72415876e+00\n",
            "   1.54437208e+00  1.78996766e+00  1.79309416e+00  2.45902872e+00\n",
            "   1.75208402e+00  2.49932003e+00 -6.46122396e-02  3.92359948e+00\n",
            "   3.45032120e+00  3.01071906e+00  5.15493774e+00  2.53555632e+00\n",
            "   1.00951147e+01  5.99145603e+00  3.35942316e+00  3.07962608e+00\n",
            "   4.11947680e+00  4.06964540e+00  2.41226459e+00  2.57596087e+00\n",
            "   2.24476790e+00  2.37291411e-01  1.16352689e+00  8.59262884e-01\n",
            "   1.49316597e+00  3.70104218e+00  3.27601385e+00  9.00689125e-01\n",
            "   3.32701713e-01  2.77370811e+00  2.76855063e+00  3.53729916e+00\n",
            "   3.78329730e+00  1.77855909e+00  2.00919032e+00  2.79071403e+00\n",
            "   1.47484112e+00  1.56602657e+00  5.95944941e-01 -1.29813302e+00\n",
            "   1.83970392e-01  1.46097720e+00  4.42194223e+00  4.03270245e+00\n",
            "   5.75205994e+00  1.28554201e+00  4.21170413e-01  1.66610193e+00\n",
            "   3.09927011e+00  6.30094588e-01  1.16690123e+00  9.65850055e-01\n",
            "   2.36166716e+00  2.03089190e+00  4.66951281e-01  2.21741724e+00\n",
            "   6.55501842e-01  2.42289233e+00 -1.58513999e+00 -1.59808624e+00\n",
            "  -3.97733063e-01  6.56409025e-01  1.23842211e+01  1.06680384e+01\n",
            "   5.57486677e+00  2.41750407e+00  7.59253442e-01 -1.80015430e-01\n",
            "   1.21976864e+00  7.68796980e-01  3.69035661e-01  8.34992230e-01\n",
            "   1.58406830e+00  2.30788374e+00  5.30200577e+00  1.43127763e+00\n",
            "   2.36493754e+00  7.38953769e-01  1.70086527e+00  1.85984337e+00\n",
            "   1.64719641e+00  7.49091387e-01 -1.69591337e-01  2.92245483e+00\n",
            "   2.43102789e+00  3.70607924e+00  1.75860560e+00  1.07820499e+00\n",
            "   1.41478181e+00  5.12154675e+00  4.31946993e+00  4.38374090e+00\n",
            "   8.60436726e+00  6.44189787e+00  4.19292498e+00  4.38484859e+00\n",
            "   5.69508839e+00  4.50006342e+00  2.73618913e+00  1.06859231e+00\n",
            "   2.65348101e+00  3.99189377e+00  3.06890845e+00  1.39162982e+00\n",
            "   1.22815824e+00  2.10706043e+00  5.27759933e+00  1.23300040e+00\n",
            "   2.05629158e+00  2.16444826e+00  4.90568787e-01  2.13886976e+00\n",
            "   9.82955074e+00 -4.43954557e-01  4.15449023e-01  2.15741372e+00\n",
            "   5.82038450e+00  6.33691597e+00  4.99144554e+00  8.26079750e+00\n",
            "   8.34589100e+00  6.39087868e+00  7.49364376e+00  4.34420300e+00\n",
            "   1.74932694e+00  1.46624041e+01  1.38002882e+01  1.53365412e+01\n",
            "   1.75362062e+00 -3.74507129e-01  5.99023879e-01  1.51087868e+00\n",
            "   2.35383010e+00  1.11716950e+00  3.02676153e+00  1.89935851e+00\n",
            "  -6.07068419e-01  2.71727461e-02  3.51446366e+00  3.09483719e+00\n",
            "   4.77997869e-01  1.22199440e+00  3.22593665e+00  4.39481783e+00\n",
            "   2.97248650e+00  3.54225922e+00  5.17574692e+00  7.36076212e+00\n",
            "   6.56759310e+00  7.42054701e+00  6.87980270e+00  2.67961407e+00\n",
            "   8.11831236e-01  8.24458885e+00  5.03392506e+00  1.31896648e+01\n",
            "   1.07055979e+01  3.58614826e+00  1.63669987e+01  1.43708181e+01\n",
            "   1.49943285e+01  2.09854579e+00  3.48094821e+00  4.52421856e+00\n",
            "   1.48043633e+00  1.38885689e+00  1.10335577e+00 -5.13241768e-01\n",
            "   7.77294561e-02 -5.78050792e-01  3.38006783e+00  8.92045140e-01\n",
            "   1.66447449e+00  4.57879448e+00  2.25075865e+00  4.11352110e+00\n",
            "   5.85785913e+00  8.99892616e+00  4.34472990e+00  3.58681774e+00\n",
            "   1.89992011e+00  4.77085876e+00  4.88184929e+00  3.08804250e+00\n",
            "   2.61681032e+00  3.51432037e+00  2.86920333e+00  4.61800051e+00\n",
            "   1.23457265e+00  2.81295323e+00  5.85422182e+00  5.02361965e+00\n",
            "   3.98035502e+00  1.68603516e+01  1.46725731e+01  9.15987015e+00\n",
            "   1.19215946e+01  7.56075144e+00  3.07253599e+00  1.95069945e+00\n",
            "   2.81856966e+00  2.46478987e+00  9.04330790e-01  1.19227576e+00\n",
            "   1.86438298e+00  3.63631368e+00  2.53013992e+00  1.18429065e+00\n",
            "   4.55389118e+00  8.67468262e+00  3.39644361e+00  2.33050919e+00\n",
            "   2.54074144e+00  2.87430024e+00  3.80268836e+00  2.28472996e+00\n",
            "   3.30822802e+00  7.38109589e+00  4.11949968e+00  5.61698723e+00\n",
            "   5.09013510e+00  2.78750896e+00  3.35443425e+00  3.69654036e+00\n",
            "   2.96750379e+00  3.83521342e+00  6.26875019e+00  3.67360020e+00\n",
            "   3.65271235e+00  4.96005487e+00  3.89980912e+00  1.72975302e+00\n",
            "   3.00131512e+00  6.86712027e+00  6.45791960e+00 -1.17492810e-01\n",
            "   2.12278318e+00  1.30689132e+00  1.48731673e+00  1.20227575e+00\n",
            "   1.08287311e+00  2.58193350e+00  5.73734522e+00  8.11428642e+00\n",
            "   1.36014786e+01  1.49869843e+01  4.73613167e+00  1.33637691e+00\n",
            "   1.17588544e+00  5.80773497e+00  4.62989378e+00  4.32217360e+00\n",
            "   3.38186169e+00  6.22250414e+00  6.16882467e+00  3.69058347e+00\n",
            "   2.24333668e+00  4.70679700e-01  4.95280266e+00  5.00735378e+00\n",
            "   2.44604921e+00  1.73693466e+00  2.33317852e+00  2.18340206e+00\n",
            "   3.64276218e+00  3.61710000e+00  2.04806256e+00  4.84355068e+00\n",
            "  -4.11870271e-01  8.04050982e-01  1.30993879e+00  2.69351554e+00\n",
            "   2.00316715e+00  7.08575344e+00  4.94365644e+00  5.30412674e+00\n",
            "   1.79126191e+00  3.49508905e+00  3.16923141e+00  4.84990406e+00\n",
            "   1.35849619e+00  1.73999786e+00  5.19883251e+00  2.89875627e+00\n",
            "   5.79154778e+00  3.11403298e+00  3.83118224e+00  6.43332005e-01\n",
            "   2.20501065e+00  2.85091543e+00  2.29701924e+00  1.25589311e+00\n",
            "   1.43236351e+00  2.43985367e+00  2.93716383e+00  1.50642669e+00\n",
            "   1.65217757e-01  1.42246854e+00  4.77151680e+00  2.91973329e+00\n",
            "   3.48494053e+00  3.01544309e+00  5.06460726e-01  3.48199606e+00\n",
            "   3.78723979e+00  5.18505144e+00  5.92013168e+00  2.94806695e+00\n",
            "   1.69265473e+00 -1.34016192e+00  5.10212421e+00  4.61040020e+00\n",
            "   1.27751958e+00  2.44149804e+00  8.15481842e-01  3.92228460e+00\n",
            "   2.87526679e+00 -3.40162182e+00 -1.11203706e+00 -4.09437180e-01\n",
            "   2.63752508e+00 -2.66137695e+00  2.62024379e+00  1.50383127e+00\n",
            "   9.92018938e-01  1.12725019e+00  1.37219071e+00  4.34658051e+00\n",
            "   3.55598831e+00  7.08516598e-01 -3.50273252e-02 -2.05616951e+00\n",
            "   4.04221582e+00  3.25168061e+00  4.84087467e+00  4.66926527e+00\n",
            "   1.06971717e+00  2.11775613e+00  3.78000164e+00  2.46404219e+00\n",
            "   7.27731884e-01  2.42957091e+00  3.20903301e-01  6.54468417e-01\n",
            "   3.50998735e+00  1.26417255e+00 -7.08418727e-01 -1.78600419e+00\n",
            "  -4.84506518e-01  2.49165106e+00  4.38278723e+00  2.05907655e+00\n",
            "   4.32872248e+00  2.16183138e+00  3.18608499e+00  4.52967119e+00\n",
            "   1.70446374e-02  1.77962470e+00  5.50841331e+00  2.74167395e+00\n",
            "   2.95755076e+00  3.62958884e+00  2.83616209e+00  5.44667578e+00\n",
            "   9.84577715e-01  3.72848916e+00  3.71411586e+00  4.05983019e+00\n",
            "   1.32347548e+00  3.47783971e+00  3.23385501e+00  2.10821435e-01\n",
            "   1.99554992e+00 -5.10269523e-01  7.83103883e-01 -5.29169917e-01\n",
            "  -3.83132070e-01 -6.25859380e-01  7.79068828e-01 -2.02577263e-01\n",
            "   2.36363339e+00  2.47078562e+00  3.55525708e+00  6.45526791e+00\n",
            "   3.73047853e+00  2.98426914e+00  1.39741468e+00  2.15755892e+00\n",
            "   5.55372000e+00  3.21433902e+00  1.45239639e+00  1.20893073e+00\n",
            "   2.62999868e+00  4.30813372e-01 -6.71394885e-01  1.21396887e+00\n",
            "   5.54247558e-01  2.48286080e+00  1.50414443e+00  7.53877783e+00\n",
            "   2.44241333e+00  3.61851549e+00  3.83305049e+00  3.38415504e+00\n",
            "   2.16335201e+00  2.72720242e+00  1.90140998e+00  4.39577363e-02\n",
            "   1.79973018e+00  3.36118340e+00  3.14192152e+00  1.70088112e+00\n",
            "   1.23879480e+00  1.29164934e+00  1.33753800e+00  3.25777793e+00\n",
            "   4.16061670e-01  1.20749843e+00  8.28313589e-01  1.50393403e+00\n",
            "   1.32975742e-01  1.60614491e+00  1.68743181e+00  2.12511706e+00\n",
            "   2.67542100e+00  1.74613607e+00  7.50967443e-01  1.98253584e+00\n",
            "   2.63848376e+00  1.23676443e+00  2.07617831e+00  2.81443191e+00\n",
            "   1.63516927e+00  2.38815117e+00  2.29734874e+00  2.41447464e-01\n",
            "   2.22977829e+00  2.41365862e+00  2.24957752e+00  5.03603077e+00\n",
            "   6.25541496e+00  7.25332499e-01  2.26693869e+00 -1.81732607e+00\n",
            "   5.57889163e-01  2.76333022e+00  3.71813679e+00  2.11249447e+00\n",
            "   4.59434223e+00  1.93981469e+00  3.53873944e+00  1.18060195e+00\n",
            "   2.31387973e+00  7.67497110e+00  3.56664276e+00  4.14428234e+00\n",
            "   4.46938848e+00  3.19788909e+00  3.73342323e+00  3.44381976e+00\n",
            "   4.83398390e+00  4.56335497e+00  3.82729173e+00  3.08953238e+00\n",
            "   3.82988811e+00  3.22144794e+00  1.89146149e+00  4.68304920e+00\n",
            "   3.86976027e+00  4.50384188e+00  3.60475993e+00  4.16757441e+00\n",
            "   3.12241507e+00  5.42770100e+00  3.25182748e+00  5.53355169e+00\n",
            "   5.43726397e+00  4.29175091e+00  5.05066919e+00  5.26589155e+00\n",
            "   5.32201481e+00  4.32500696e+00  6.61137056e+00  1.58960259e+00\n",
            "   5.20652199e+00  3.45090675e+00  7.08828735e+00  4.13623524e+00\n",
            "   6.07204914e+00  2.06935825e+01  5.53950405e+00]]\n"
          ]
        }
      ]
    },
    {
      "cell_type": "code",
      "source": [
        "predicted_precip.shape"
      ],
      "metadata": {
        "colab": {
          "base_uri": "https://localhost:8080/"
        },
        "id": "2ZNbIMFieNid",
        "outputId": "11c8558a-8c1f-4449-9758-90c102522c8f"
      },
      "execution_count": 12,
      "outputs": [
        {
          "output_type": "execute_result",
          "data": {
            "text/plain": [
              "(1, 639)"
            ]
          },
          "metadata": {},
          "execution_count": 12
        }
      ]
    },
    {
      "cell_type": "code",
      "source": [
        "from sklearn.metrics import mean_absolute_error, mean_squared_error\n",
        "import numpy as np\n",
        "\n",
        "# Get predictions on the entire dataset for evaluation\n",
        "predictions = model.predict(X)\n",
        "predictions = scaler.inverse_transform(predictions)  # Rescale to original values\n",
        "y_true = scaler.inverse_transform(y)  # Original target values\n",
        "\n",
        "# Replace NaN values with a suitable value (e.g., 0)\n",
        "# You might need to adjust this based on your data characteristics\n",
        "predictions = np.nan_to_num(predictions, nan=0.0)\n",
        "y_true = np.nan_to_num(y_true, nan=0.0)\n",
        "\n",
        "\n",
        "# Calculate metrics for each grid point individually\n",
        "mae = mean_absolute_error(y_true, predictions)\n",
        "rmse = np.sqrt(mean_squared_error(y_true, predictions))\n",
        "\n",
        "\n",
        "print(\"Mean Absolute Error (MAE):\", mae)\n",
        "print(\"Root Mean Squared Error (RMSE):\", rmse)\n",
        "\n"
      ],
      "metadata": {
        "colab": {
          "base_uri": "https://localhost:8080/"
        },
        "id": "3ikJ9CDiyKNw",
        "outputId": "97a69094-07f8-441d-a5b4-d4d12ff2c0be"
      },
      "execution_count": 13,
      "outputs": [
        {
          "output_type": "stream",
          "name": "stdout",
          "text": [
            "\u001b[1m11/11\u001b[0m \u001b[32m━━━━━━━━━━━━━━━━━━━━\u001b[0m\u001b[37m\u001b[0m \u001b[1m0s\u001b[0m 19ms/step\n",
            "Mean Absolute Error (MAE): 3.517025172092089\n",
            "Root Mean Squared Error (RMSE): 8.860704936600689\n"
          ]
        }
      ]
    },
    {
      "cell_type": "markdown",
      "source": [
        "\n",
        "\n",
        "---\n",
        "\n",
        "\n",
        "\n",
        "---\n",
        "\n",
        "\n",
        "\n",
        "# **THE END OF LSTM**\n",
        "\n",
        "---\n",
        "\n",
        "\n",
        "\n",
        "---\n",
        "\n"
      ],
      "metadata": {
        "id": "BUipAFSbCmbK"
      }
    }
  ]
}