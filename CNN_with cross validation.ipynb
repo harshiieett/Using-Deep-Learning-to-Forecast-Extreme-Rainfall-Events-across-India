{
  "nbformat": 4,
  "nbformat_minor": 0,
  "metadata": {
    "colab": {
      "provenance": []
    },
    "kernelspec": {
      "name": "python3",
      "display_name": "Python 3"
    },
    "language_info": {
      "name": "python"
    }
  },
  "cells": [
    {
      "cell_type": "code",
      "execution_count": 1,
      "metadata": {
        "collapsed": true,
        "id": "SJsZVpIrvTEb"
      },
      "outputs": [],
      "source": [
        "import numpy as np\n",
        "import pandas as pd\n",
        "from sklearn.model_selection import train_test_split\n",
        "from sklearn.preprocessing import StandardScaler\n",
        "from sklearn.metrics import mean_squared_error, r2_score\n",
        "from tensorflow.keras.models import Sequential\n",
        "from tensorflow.keras.layers import Conv2D, MaxPooling2D, Flatten, Dense, Dropout, Reshape"
      ]
    },
    {
      "cell_type": "code",
      "source": [
        "# Load the data\n",
        "\n",
        "data = pd.read_csv('ind1901_2015.csv')"
      ],
      "metadata": {
        "id": "eGoW5ZSwvkPp"
      },
      "execution_count": 2,
      "outputs": []
    },
    {
      "cell_type": "code",
      "source": [
        "# Extract the date rows and precipitation data\n",
        "# Filter rows that contain date information, skipping 'x' and 'y' labels\n",
        "date_rows = data[data['Unnamed: 0'].str.contains(\"X\", na=False)]"
      ],
      "metadata": {
        "id": "QZp6QV4yvkR4"
      },
      "execution_count": 3,
      "outputs": []
    },
    {
      "cell_type": "code",
      "source": [
        "# Reset index for date rows and drop the \"Unnamed: 0\" column for simplicity\n",
        "date_rows = date_rows.reset_index(drop=True)\n",
        "date_rows = date_rows.drop(columns=['Unnamed: 0'])"
      ],
      "metadata": {
        "id": "jsfDPRJhvkUS"
      },
      "execution_count": 4,
      "outputs": []
    },
    {
      "cell_type": "code",
      "source": [
        "# Convert precipitation data to numeric, replacing any non-numeric entries with NaN, then fill NaNs with 0\n",
        "date_rows = date_rows.apply(pd.to_numeric, errors='coerce').fillna(0)\n"
      ],
      "metadata": {
        "id": "AfYF2sMqvkWj"
      },
      "execution_count": 5,
      "outputs": []
    },
    {
      "cell_type": "code",
      "source": [
        "# # Reshape data to a 3D format suitable for CNN input\n",
        "# precipitation_data = date_rows.values.reshape(-1, date_rows.shape[1], 1)\n",
        "precipitation_data = date_rows.values.flatten()"
      ],
      "metadata": {
        "id": "NFIfFnXFvkZI"
      },
      "execution_count": 6,
      "outputs": []
    },
    {
      "cell_type": "code",
      "source": [
        "# Define a fixed threshold for extreme rainfall\n",
        "threshold = 204.5\n",
        "labels = (precipitation_data >= threshold).astype(int)  # Label as 1 if extreme, else 0"
      ],
      "metadata": {
        "id": "aUpFHctwN0m-"
      },
      "execution_count": 7,
      "outputs": []
    },
    {
      "cell_type": "code",
      "source": [
        "# Prepare features and labels\n",
        "X = precipitation_data.reshape(-1,date_rows.shape[1],1, 1)  # Reshape to (samples, features)\n",
        "y = labels.reshape(X.shape[0],-1)"
      ],
      "metadata": {
        "id": "fGUQqKQ4OXo2"
      },
      "execution_count": 8,
      "outputs": []
    },
    {
      "cell_type": "code",
      "source": [
        "X.shape\n",
        "y.shape\n"
      ],
      "metadata": {
        "colab": {
          "base_uri": "https://localhost:8080/"
        },
        "id": "aPxESVv7yem5",
        "outputId": "cc71b21a-8344-4c91-f4fc-49614de0c2fe"
      },
      "execution_count": 9,
      "outputs": [
        {
          "output_type": "execute_result",
          "data": {
            "text/plain": [
              "(9125, 639)"
            ]
          },
          "metadata": {},
          "execution_count": 9
        }
      ]
    },
    {
      "cell_type": "code",
      "source": [
        "# # # Preprocess the data\n",
        "# scaler = StandardScaler()\n",
        "# X = scaler.fit_transform(X)"
      ],
      "metadata": {
        "collapsed": true,
        "id": "ESN3NumXPh3I"
      },
      "execution_count": 10,
      "outputs": []
    },
    {
      "cell_type": "code",
      "source": [
        "# Split the data into training and testing sets\n",
        "X_train, X_test, y_train, y_test = train_test_split(X, y, test_size=0.2, random_state=12)\n"
      ],
      "metadata": {
        "id": "kYT_zJb9vkdd"
      },
      "execution_count": 11,
      "outputs": []
    },
    {
      "cell_type": "code",
      "source": [
        "\n",
        "# Build the CNN model\n",
        "model = Sequential([\n",
        "    Conv2D(32, (3, 1), activation='relu', input_shape=(date_rows.shape[1], 1, 1)),  # First convolutional layer\n",
        "    MaxPooling2D((2, 2),padding='same'),  # Pooling layer\n",
        "    Conv2D(64, (3, 1), activation='relu'),  # Second convolutional layer\n",
        "    MaxPooling2D((2, 2),padding='same'),  # Pooling layer\n",
        "    Flatten(),  # Flatten to convert 3D output to 1D\n",
        "    Dense(128, activation='relu'),  # Fully connected layer\n",
        "    Dropout(0.5),  # Dropout layer for regularization\n",
        "    Dense(639)  # Output layer for regression\n",
        "])"
      ],
      "metadata": {
        "id": "TxO50Ernvkfj",
        "colab": {
          "base_uri": "https://localhost:8080/"
        },
        "outputId": "28e65efd-a0b4-4155-9fde-d9eefbd008ec"
      },
      "execution_count": 19,
      "outputs": [
        {
          "output_type": "stream",
          "name": "stderr",
          "text": [
            "/usr/local/lib/python3.10/dist-packages/keras/src/layers/convolutional/base_conv.py:107: UserWarning: Do not pass an `input_shape`/`input_dim` argument to a layer. When using Sequential models, prefer using an `Input(shape)` object as the first layer in the model instead.\n",
            "  super().__init__(activity_regularizer=activity_regularizer, **kwargs)\n"
          ]
        }
      ]
    },
    {
      "cell_type": "code",
      "source": [
        "# Compile the model\n",
        "model.compile(optimizer='adam', loss='binary_crossentropy', metrics=['accuracy'])\n"
      ],
      "metadata": {
        "id": "u6cz99VFvkjH"
      },
      "execution_count": 20,
      "outputs": []
    },
    {
      "cell_type": "code",
      "source": [
        "# Train the model\n",
        "history = model.fit(X_train, y_train, epochs=20, batch_size=32, validation_split=0.2)\n"
      ],
      "metadata": {
        "colab": {
          "base_uri": "https://localhost:8080/"
        },
        "id": "y03AC3KIwA4R",
        "outputId": "9f18382f-138d-40ba-e6e0-3ecf4e5157f0"
      },
      "execution_count": 21,
      "outputs": [
        {
          "output_type": "stream",
          "name": "stdout",
          "text": [
            "Epoch 1/20\n",
            "\u001b[1m183/183\u001b[0m \u001b[32m━━━━━━━━━━━━━━━━━━━━\u001b[0m\u001b[37m\u001b[0m \u001b[1m9s\u001b[0m 40ms/step - accuracy: 0.0069 - loss: 0.5156 - val_accuracy: 0.0000e+00 - val_loss: 0.0018\n",
            "Epoch 2/20\n",
            "\u001b[1m183/183\u001b[0m \u001b[32m━━━━━━━━━━━━━━━━━━━━\u001b[0m\u001b[37m\u001b[0m \u001b[1m12s\u001b[0m 49ms/step - accuracy: 0.0000e+00 - loss: 0.0018 - val_accuracy: 0.0000e+00 - val_loss: 0.0018\n",
            "Epoch 3/20\n",
            "\u001b[1m183/183\u001b[0m \u001b[32m━━━━━━━━━━━━━━━━━━━━\u001b[0m\u001b[37m\u001b[0m \u001b[1m9s\u001b[0m 48ms/step - accuracy: 0.0000e+00 - loss: 0.0017 - val_accuracy: 0.0000e+00 - val_loss: 0.0018\n",
            "Epoch 4/20\n",
            "\u001b[1m183/183\u001b[0m \u001b[32m━━━━━━━━━━━━━━━━━━━━\u001b[0m\u001b[37m\u001b[0m \u001b[1m8s\u001b[0m 44ms/step - accuracy: 0.0000e+00 - loss: 0.0017 - val_accuracy: 0.0000e+00 - val_loss: 0.0018\n",
            "Epoch 5/20\n",
            "\u001b[1m183/183\u001b[0m \u001b[32m━━━━━━━━━━━━━━━━━━━━\u001b[0m\u001b[37m\u001b[0m \u001b[1m9s\u001b[0m 38ms/step - accuracy: 0.0000e+00 - loss: 0.0017 - val_accuracy: 0.0000e+00 - val_loss: 0.0018\n",
            "Epoch 6/20\n",
            "\u001b[1m183/183\u001b[0m \u001b[32m━━━━━━━━━━━━━━━━━━━━\u001b[0m\u001b[37m\u001b[0m \u001b[1m9s\u001b[0m 50ms/step - accuracy: 0.0000e+00 - loss: 0.0014 - val_accuracy: 0.0000e+00 - val_loss: 0.0018\n",
            "Epoch 7/20\n",
            "\u001b[1m183/183\u001b[0m \u001b[32m━━━━━━━━━━━━━━━━━━━━\u001b[0m\u001b[37m\u001b[0m \u001b[1m7s\u001b[0m 40ms/step - accuracy: 0.0000e+00 - loss: 0.0015 - val_accuracy: 0.0000e+00 - val_loss: 0.0018\n",
            "Epoch 8/20\n",
            "\u001b[1m183/183\u001b[0m \u001b[32m━━━━━━━━━━━━━━━━━━━━\u001b[0m\u001b[37m\u001b[0m \u001b[1m8s\u001b[0m 45ms/step - accuracy: 0.0000e+00 - loss: 0.0014 - val_accuracy: 0.0000e+00 - val_loss: 0.0018\n",
            "Epoch 9/20\n",
            "\u001b[1m183/183\u001b[0m \u001b[32m━━━━━━━━━━━━━━━━━━━━\u001b[0m\u001b[37m\u001b[0m \u001b[1m11s\u001b[0m 48ms/step - accuracy: 0.0000e+00 - loss: 0.0016 - val_accuracy: 0.0000e+00 - val_loss: 0.0018\n",
            "Epoch 10/20\n",
            "\u001b[1m183/183\u001b[0m \u001b[32m━━━━━━━━━━━━━━━━━━━━\u001b[0m\u001b[37m\u001b[0m \u001b[1m10s\u001b[0m 54ms/step - accuracy: 0.0000e+00 - loss: 0.0016 - val_accuracy: 0.0000e+00 - val_loss: 0.0018\n",
            "Epoch 11/20\n",
            "\u001b[1m183/183\u001b[0m \u001b[32m━━━━━━━━━━━━━━━━━━━━\u001b[0m\u001b[37m\u001b[0m \u001b[1m7s\u001b[0m 39ms/step - accuracy: 0.0000e+00 - loss: 0.0015 - val_accuracy: 0.0000e+00 - val_loss: 0.0018\n",
            "Epoch 12/20\n",
            "\u001b[1m183/183\u001b[0m \u001b[32m━━━━━━━━━━━━━━━━━━━━\u001b[0m\u001b[37m\u001b[0m \u001b[1m9s\u001b[0m 48ms/step - accuracy: 0.0000e+00 - loss: 0.0017 - val_accuracy: 0.0000e+00 - val_loss: 0.0018\n",
            "Epoch 13/20\n",
            "\u001b[1m183/183\u001b[0m \u001b[32m━━━━━━━━━━━━━━━━━━━━\u001b[0m\u001b[37m\u001b[0m \u001b[1m9s\u001b[0m 39ms/step - accuracy: 0.0000e+00 - loss: 0.0019 - val_accuracy: 0.0000e+00 - val_loss: 0.0018\n",
            "Epoch 14/20\n",
            "\u001b[1m183/183\u001b[0m \u001b[32m━━━━━━━━━━━━━━━━━━━━\u001b[0m\u001b[37m\u001b[0m \u001b[1m9s\u001b[0m 51ms/step - accuracy: 0.0000e+00 - loss: 0.0017 - val_accuracy: 0.0000e+00 - val_loss: 0.0018\n",
            "Epoch 15/20\n",
            "\u001b[1m183/183\u001b[0m \u001b[32m━━━━━━━━━━━━━━━━━━━━\u001b[0m\u001b[37m\u001b[0m \u001b[1m10s\u001b[0m 49ms/step - accuracy: 0.0000e+00 - loss: 0.0022 - val_accuracy: 0.0000e+00 - val_loss: 0.0018\n",
            "Epoch 16/20\n",
            "\u001b[1m183/183\u001b[0m \u001b[32m━━━━━━━━━━━━━━━━━━━━\u001b[0m\u001b[37m\u001b[0m \u001b[1m8s\u001b[0m 38ms/step - accuracy: 0.0000e+00 - loss: 0.0018 - val_accuracy: 0.0000e+00 - val_loss: 0.0018\n",
            "Epoch 17/20\n",
            "\u001b[1m183/183\u001b[0m \u001b[32m━━━━━━━━━━━━━━━━━━━━\u001b[0m\u001b[37m\u001b[0m \u001b[1m10s\u001b[0m 39ms/step - accuracy: 0.0000e+00 - loss: 0.0015 - val_accuracy: 0.0000e+00 - val_loss: 0.0018\n",
            "Epoch 18/20\n",
            "\u001b[1m183/183\u001b[0m \u001b[32m━━━━━━━━━━━━━━━━━━━━\u001b[0m\u001b[37m\u001b[0m \u001b[1m11s\u001b[0m 45ms/step - accuracy: 0.0000e+00 - loss: 0.0015 - val_accuracy: 0.0000e+00 - val_loss: 0.0018\n",
            "Epoch 19/20\n",
            "\u001b[1m183/183\u001b[0m \u001b[32m━━━━━━━━━━━━━━━━━━━━\u001b[0m\u001b[37m\u001b[0m \u001b[1m9s\u001b[0m 49ms/step - accuracy: 0.0000e+00 - loss: 0.0017 - val_accuracy: 0.0000e+00 - val_loss: 0.0018\n",
            "Epoch 20/20\n",
            "\u001b[1m183/183\u001b[0m \u001b[32m━━━━━━━━━━━━━━━━━━━━\u001b[0m\u001b[37m\u001b[0m \u001b[1m7s\u001b[0m 38ms/step - accuracy: 0.0000e+00 - loss: 0.0014 - val_accuracy: 0.0000e+00 - val_loss: 0.0018\n"
          ]
        }
      ]
    },
    {
      "cell_type": "code",
      "source": [
        "y_test.shape"
      ],
      "metadata": {
        "colab": {
          "base_uri": "https://localhost:8080/"
        },
        "id": "Z7mFkswoVm8Q",
        "outputId": "9179f2ad-ec11-4ca6-fa21-4b8eb8767be0"
      },
      "execution_count": 18,
      "outputs": [
        {
          "output_type": "execute_result",
          "data": {
            "text/plain": [
              "(1825, 639)"
            ]
          },
          "metadata": {},
          "execution_count": 18
        }
      ]
    },
    {
      "cell_type": "code",
      "source": [
        "\n",
        "# Predict on the test set\n",
        "y_pred = model.predict(X_test)\n",
        "\n",
        "# Reshape y_pred to match the number of outputs in y_test\n",
        "y_pred = y_pred.reshape(None,y_test.shape[1])\n",
        "# Reshape y_test to have a single column if it has multiple columns\n",
        "# if y_test.ndim > 1 and y_test.shape[1] > 1:\n",
        "#    y_test = y_test[:, -1]\n",
        "  #  y_test = y_test.reshape(y_test.shape[0],)\n",
        "  #  print(\"Warning: y_test was reshaped to a single column. Ensure this is intended.\")\n"
      ],
      "metadata": {
        "colab": {
          "base_uri": "https://localhost:8080/",
          "height": 228
        },
        "id": "5v4AHtD6wA7p",
        "outputId": "ccc2e1d8-af35-48b4-a3e6-a01425128520"
      },
      "execution_count": 22,
      "outputs": [
        {
          "output_type": "stream",
          "name": "stdout",
          "text": [
            "\u001b[1m58/58\u001b[0m \u001b[32m━━━━━━━━━━━━━━━━━━━━\u001b[0m\u001b[37m\u001b[0m \u001b[1m1s\u001b[0m 10ms/step\n"
          ]
        },
        {
          "output_type": "error",
          "ename": "TypeError",
          "evalue": "'NoneType' object cannot be interpreted as an integer",
          "traceback": [
            "\u001b[0;31m---------------------------------------------------------------------------\u001b[0m",
            "\u001b[0;31mTypeError\u001b[0m                                 Traceback (most recent call last)",
            "\u001b[0;32m<ipython-input-22-39e3a9f35f00>\u001b[0m in \u001b[0;36m<cell line: 5>\u001b[0;34m()\u001b[0m\n\u001b[1;32m      3\u001b[0m \u001b[0;34m\u001b[0m\u001b[0m\n\u001b[1;32m      4\u001b[0m \u001b[0;31m# Reshape y_pred to match the number of outputs in y_test\u001b[0m\u001b[0;34m\u001b[0m\u001b[0;34m\u001b[0m\u001b[0m\n\u001b[0;32m----> 5\u001b[0;31m \u001b[0my_pred\u001b[0m \u001b[0;34m=\u001b[0m \u001b[0my_pred\u001b[0m\u001b[0;34m.\u001b[0m\u001b[0mreshape\u001b[0m\u001b[0;34m(\u001b[0m\u001b[0;32mNone\u001b[0m\u001b[0;34m,\u001b[0m\u001b[0my_test\u001b[0m\u001b[0;34m.\u001b[0m\u001b[0mshape\u001b[0m\u001b[0;34m[\u001b[0m\u001b[0;36m1\u001b[0m\u001b[0;34m]\u001b[0m\u001b[0;34m)\u001b[0m\u001b[0;34m\u001b[0m\u001b[0;34m\u001b[0m\u001b[0m\n\u001b[0m\u001b[1;32m      6\u001b[0m \u001b[0;31m# Reshape y_test to have a single column if it has multiple columns\u001b[0m\u001b[0;34m\u001b[0m\u001b[0;34m\u001b[0m\u001b[0m\n\u001b[1;32m      7\u001b[0m \u001b[0;31m# if y_test.ndim > 1 and y_test.shape[1] > 1:\u001b[0m\u001b[0;34m\u001b[0m\u001b[0;34m\u001b[0m\u001b[0m\n",
            "\u001b[0;31mTypeError\u001b[0m: 'NoneType' object cannot be interpreted as an integer"
          ]
        }
      ]
    },
    {
      "cell_type": "code",
      "source": [
        "# Evaluate the model\n",
        "mse = mean_squared_error(y_test, y_pred)\n",
        "r2 = r2_score(y_test, y_pred)\n",
        "print(f'Mean Squared Error: {mse:.2f}')\n",
        "print(f'R-squared: {r2:.2f}')"
      ],
      "metadata": {
        "id": "BImIkhTuwGAQ"
      },
      "execution_count": null,
      "outputs": []
    },
    {
      "cell_type": "code",
      "source": [
        "# Compile the model\n",
        "model.compile(optimizer='adam', loss='mse', metrics=['mae'])"
      ],
      "metadata": {
        "id": "S-YAfipR92KY"
      },
      "execution_count": null,
      "outputs": []
    },
    {
      "cell_type": "code",
      "source": [
        "# Evaluate the model\n",
        "mse = mean_squared_error(y_test, y_pred)\n",
        "r2 = r2_score(y_test, y_pred)\n",
        "print(f'Mean Squared Error: {mse:.2f}')\n",
        "print(f'R-squared: {r2:.2f}')"
      ],
      "metadata": {
        "id": "81FdyvWW93JW"
      },
      "execution_count": null,
      "outputs": []
    }
  ]
}